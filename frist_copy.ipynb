{
 "cells": [
  {
   "cell_type": "code",
   "execution_count": 1,
   "metadata": {},
   "outputs": [
    {
     "name": "stdout",
     "output_type": "stream",
     "text": [
      "✅ train_df 크기: (1460, 81)\n",
      "✅ test_df 크기: (1459, 80)\n"
     ]
    }
   ],
   "source": [
    "import pandas as pd\n",
    "\n",
    "# ✅ 데이터 불러오기\n",
    "train_df = pd.read_csv(\"train.csv\")\n",
    "test_df = pd.read_csv(\"test.csv\")\n",
    "\n",
    "# ✅ 데이터 크기 확인\n",
    "print(\"✅ train_df 크기:\", train_df.shape)  # (1460, 81)로 출력되면 정상\n",
    "print(\"✅ test_df 크기:\", test_df.shape)    # (1459, 80)로 출력되면 정상"
   ]
  },
  {
   "cell_type": "code",
   "execution_count": 2,
   "metadata": {},
   "outputs": [
    {
     "name": "stdout",
     "output_type": "stream",
     "text": [
      "✅ train_df 컬럼 목록: Index(['Id', 'MSSubClass', 'MSZoning', 'LotFrontage', 'LotArea', 'Street',\n",
      "       'Alley', 'LotShape', 'LandContour', 'Utilities', 'LotConfig',\n",
      "       'LandSlope', 'Neighborhood', 'Condition1', 'Condition2', 'BldgType',\n",
      "       'HouseStyle', 'OverallQual', 'OverallCond', 'YearBuilt', 'YearRemodAdd',\n",
      "       'RoofStyle', 'RoofMatl', 'Exterior1st', 'Exterior2nd', 'MasVnrType',\n",
      "       'MasVnrArea', 'ExterQual', 'ExterCond', 'Foundation', 'BsmtQual',\n",
      "       'BsmtCond', 'BsmtExposure', 'BsmtFinType1', 'BsmtFinSF1',\n",
      "       'BsmtFinType2', 'BsmtFinSF2', 'BsmtUnfSF', 'TotalBsmtSF', 'Heating',\n",
      "       'HeatingQC', 'CentralAir', 'Electrical', '1stFlrSF', '2ndFlrSF',\n",
      "       'LowQualFinSF', 'GrLivArea', 'BsmtFullBath', 'BsmtHalfBath', 'FullBath',\n",
      "       'HalfBath', 'BedroomAbvGr', 'KitchenAbvGr', 'KitchenQual',\n",
      "       'TotRmsAbvGrd', 'Functional', 'Fireplaces', 'FireplaceQu', 'GarageType',\n",
      "       'GarageYrBlt', 'GarageFinish', 'GarageCars', 'GarageArea', 'GarageQual',\n",
      "       'GarageCond', 'PavedDrive', 'WoodDeckSF', 'OpenPorchSF',\n",
      "       'EnclosedPorch', '3SsnPorch', 'ScreenPorch', 'PoolArea', 'PoolQC',\n",
      "       'Fence', 'MiscFeature', 'MiscVal', 'MoSold', 'YrSold', 'SaleType',\n",
      "       'SaleCondition', 'SalePrice'],\n",
      "      dtype='object')\n",
      "SalePrice in train_df: True\n",
      "SalePrice 데이터 타입: int64\n",
      "0    208500\n",
      "1    181500\n",
      "2    223500\n",
      "3    140000\n",
      "4    250000\n",
      "Name: SalePrice, dtype: int64\n"
     ]
    }
   ],
   "source": [
    "# ✅ 컬럼 목록 출력\n",
    "print(\"✅ train_df 컬럼 목록:\", train_df.columns)\n",
    "\n",
    "# ✅ SalePrice 컬럼 확인\n",
    "print(\"SalePrice in train_df:\", \"SalePrice\" in train_df.columns)\n",
    "\n",
    "# ✅ SalePrice 타입 확인\n",
    "print(\"SalePrice 데이터 타입:\", train_df[\"SalePrice\"].dtype)\n",
    "\n",
    "# ✅ SalePrice 값 샘플 출력\n",
    "print(train_df[\"SalePrice\"].head())"
   ]
  },
  {
   "cell_type": "code",
   "execution_count": 3,
   "metadata": {},
   "outputs": [
    {
     "name": "stdout",
     "output_type": "stream",
     "text": [
      "✅ train_df 결측치 개수:\n",
      " LotFrontage      259\n",
      "Alley           1369\n",
      "MasVnrType       872\n",
      "MasVnrArea         8\n",
      "BsmtQual          37\n",
      "BsmtCond          37\n",
      "BsmtExposure      38\n",
      "BsmtFinType1      37\n",
      "BsmtFinType2      38\n",
      "Electrical         1\n",
      "FireplaceQu      690\n",
      "GarageType        81\n",
      "GarageYrBlt       81\n",
      "GarageFinish      81\n",
      "GarageQual        81\n",
      "GarageCond        81\n",
      "PoolQC          1453\n",
      "Fence           1179\n",
      "MiscFeature     1406\n",
      "dtype: int64\n"
     ]
    }
   ],
   "source": [
    "# ✅ 결측치 개수 확인\n",
    "missing_values = train_df.isnull().sum()\n",
    "missing_values = missing_values[missing_values > 0]\n",
    "\n",
    "print(\"✅ train_df 결측치 개수:\\n\", missing_values)"
   ]
  },
  {
   "cell_type": "code",
   "execution_count": 4,
   "metadata": {},
   "outputs": [
    {
     "name": "stdout",
     "output_type": "stream",
     "text": [
      "✅ 결측치 처리 완료!\n"
     ]
    },
    {
     "name": "stderr",
     "output_type": "stream",
     "text": [
      "/tmp/ipykernel_1450770/546664652.py:13: FutureWarning: A value is trying to be set on a copy of a DataFrame or Series through chained assignment using an inplace method.\n",
      "The behavior will change in pandas 3.0. This inplace method will never work because the intermediate object on which we are setting values always behaves as a copy.\n",
      "\n",
      "For example, when doing 'df[col].method(value, inplace=True)', try using 'df.method({col: value}, inplace=True)' or df[col] = df[col].method(value) instead, to perform the operation inplace on the original object.\n",
      "\n",
      "\n",
      "  train_df[col].fillna(\"None\", inplace=True)\n",
      "/tmp/ipykernel_1450770/546664652.py:14: FutureWarning: A value is trying to be set on a copy of a DataFrame or Series through chained assignment using an inplace method.\n",
      "The behavior will change in pandas 3.0. This inplace method will never work because the intermediate object on which we are setting values always behaves as a copy.\n",
      "\n",
      "For example, when doing 'df[col].method(value, inplace=True)', try using 'df.method({col: value}, inplace=True)' or df[col] = df[col].method(value) instead, to perform the operation inplace on the original object.\n",
      "\n",
      "\n",
      "  test_df[col].fillna(\"None\", inplace=True)\n",
      "/tmp/ipykernel_1450770/546664652.py:19: FutureWarning: A value is trying to be set on a copy of a DataFrame or Series through chained assignment using an inplace method.\n",
      "The behavior will change in pandas 3.0. This inplace method will never work because the intermediate object on which we are setting values always behaves as a copy.\n",
      "\n",
      "For example, when doing 'df[col].method(value, inplace=True)', try using 'df.method({col: value}, inplace=True)' or df[col] = df[col].method(value) instead, to perform the operation inplace on the original object.\n",
      "\n",
      "\n",
      "  train_df[col].fillna(0, inplace=True)\n",
      "/tmp/ipykernel_1450770/546664652.py:20: FutureWarning: A value is trying to be set on a copy of a DataFrame or Series through chained assignment using an inplace method.\n",
      "The behavior will change in pandas 3.0. This inplace method will never work because the intermediate object on which we are setting values always behaves as a copy.\n",
      "\n",
      "For example, when doing 'df[col].method(value, inplace=True)', try using 'df.method({col: value}, inplace=True)' or df[col] = df[col].method(value) instead, to perform the operation inplace on the original object.\n",
      "\n",
      "\n",
      "  test_df[col].fillna(0, inplace=True)\n",
      "/tmp/ipykernel_1450770/546664652.py:23: FutureWarning: A value is trying to be set on a copy of a DataFrame or Series through chained assignment using an inplace method.\n",
      "The behavior will change in pandas 3.0. This inplace method will never work because the intermediate object on which we are setting values always behaves as a copy.\n",
      "\n",
      "For example, when doing 'df[col].method(value, inplace=True)', try using 'df.method({col: value}, inplace=True)' or df[col] = df[col].method(value) instead, to perform the operation inplace on the original object.\n",
      "\n",
      "\n",
      "  train_df[\"Electrical\"].fillna(train_df[\"Electrical\"].mode()[0], inplace=True)\n",
      "/tmp/ipykernel_1450770/546664652.py:24: FutureWarning: A value is trying to be set on a copy of a DataFrame or Series through chained assignment using an inplace method.\n",
      "The behavior will change in pandas 3.0. This inplace method will never work because the intermediate object on which we are setting values always behaves as a copy.\n",
      "\n",
      "For example, when doing 'df[col].method(value, inplace=True)', try using 'df.method({col: value}, inplace=True)' or df[col] = df[col].method(value) instead, to perform the operation inplace on the original object.\n",
      "\n",
      "\n",
      "  test_df[\"Electrical\"].fillna(test_df[\"Electrical\"].mode()[0], inplace=True)\n"
     ]
    }
   ],
   "source": [
    "import pandas as pd\n",
    "import numpy as np\n",
    "\n",
    "# ✅ 1. 수치형 변수 (LotFrontage) → 같은 이웃(Neighborhood) 중앙값으로 대체\n",
    "train_df[\"LotFrontage\"] = train_df.groupby(\"Neighborhood\")[\"LotFrontage\"].transform(lambda x: x.fillna(x.median()))\n",
    "test_df[\"LotFrontage\"] = test_df.groupby(\"Neighborhood\")[\"LotFrontage\"].transform(lambda x: x.fillna(x.median()))\n",
    "\n",
    "# ✅ 2. 범주형 변수 → \"None\"으로 대체\n",
    "none_cols = [\"Alley\", \"PoolQC\", \"Fence\", \"MiscFeature\", \"MasVnrType\",\n",
    "             \"BsmtQual\", \"BsmtCond\", \"BsmtExposure\", \"BsmtFinType1\", \"BsmtFinType2\",\n",
    "             \"FireplaceQu\", \"GarageType\", \"GarageFinish\", \"GarageQual\", \"GarageCond\"]\n",
    "for col in none_cols:\n",
    "    train_df[col].fillna(\"None\", inplace=True)\n",
    "    test_df[col].fillna(\"None\", inplace=True)\n",
    "\n",
    "# ✅ 3. 숫자형 변수 → 0으로 대체\n",
    "zero_cols = [\"MasVnrArea\", \"GarageYrBlt\"]\n",
    "for col in zero_cols:\n",
    "    train_df[col].fillna(0, inplace=True)\n",
    "    test_df[col].fillna(0, inplace=True)\n",
    "\n",
    "# ✅ 4. Electrical → 최빈값(mode)으로 대체\n",
    "train_df[\"Electrical\"].fillna(train_df[\"Electrical\"].mode()[0], inplace=True)\n",
    "test_df[\"Electrical\"].fillna(test_df[\"Electrical\"].mode()[0], inplace=True)\n",
    "\n",
    "print(\"✅ 결측치 처리 완료!\")"
   ]
  },
  {
   "cell_type": "code",
   "execution_count": 5,
   "metadata": {},
   "outputs": [
    {
     "name": "stdout",
     "output_type": "stream",
     "text": [
      "✅ 결측치 처리 후 남은 결측치 개수:\n",
      " Series([], dtype: int64)\n"
     ]
    }
   ],
   "source": [
    "# ✅ 남은 결측치 개수 확인\n",
    "missing_values_after = train_df.isnull().sum()\n",
    "missing_values_after = missing_values_after[missing_values_after > 0]\n",
    "\n",
    "print(\"✅ 결측치 처리 후 남은 결측치 개수:\\n\", missing_values_after)"
   ]
  },
  {
   "cell_type": "code",
   "execution_count": 6,
   "metadata": {},
   "outputs": [
    {
     "name": "stdout",
     "output_type": "stream",
     "text": [
      "✅ Feature Engineering 완료! (데이터 무결성 유지)\n"
     ]
    }
   ],
   "source": [
    "import numpy as np\n",
    "import datetime\n",
    "from sklearn.preprocessing import MinMaxScaler\n",
    "\n",
    "# ✅ 1. 건물 나이 (BuildingAge) 변수 추가\n",
    "current_year = datetime.datetime.now().year\n",
    "train_df[\"BuildingAge\"] = current_year - train_df[\"YearBuilt\"]\n",
    "test_df[\"BuildingAge\"] = current_year - test_df[\"YearBuilt\"]\n",
    "\n",
    "# ✅ 2. 전체 면적 (TotalSF) 변수 추가\n",
    "train_df[\"TotalSF\"] = train_df[\"TotalBsmtSF\"] + train_df[\"1stFlrSF\"] + train_df[\"2ndFlrSF\"]\n",
    "test_df[\"TotalSF\"] = test_df[\"TotalBsmtSF\"] + test_df[\"1stFlrSF\"] + test_df[\"2ndFlrSF\"]\n",
    "\n",
    "print(\"✅ Feature Engineering 완료! (데이터 무결성 유지)\")"
   ]
  },
  {
   "cell_type": "code",
   "execution_count": 8,
   "metadata": {},
   "outputs": [
    {
     "name": "stdout",
     "output_type": "stream",
     "text": [
      "✅ VIF 높은 변수 목록:\n",
      "          Feature           VIF\n",
      "13      2ndFlrSF           inf\n",
      "12      1stFlrSF           inf\n",
      "10     BsmtUnfSF           inf\n",
      "11   TotalBsmtSF           inf\n",
      "8     BsmtFinSF1           inf\n",
      "9     BsmtFinSF2           inf\n",
      "37       TotalSF           inf\n",
      "14  LowQualFinSF           inf\n",
      "15     GrLivArea           inf\n",
      "5      YearBuilt  2.276117e+06\n"
     ]
    },
    {
     "name": "stderr",
     "output_type": "stream",
     "text": [
      "/opt/anaconda3/envs/house/lib/python3.12/site-packages/statsmodels/stats/outliers_influence.py:197: RuntimeWarning: divide by zero encountered in scalar divide\n",
      "  vif = 1. / (1. - r_squared_i)\n"
     ]
    }
   ],
   "source": [
    "from statsmodels.stats.outliers_influence import variance_inflation_factor\n",
    "import pandas as pd\n",
    "\n",
    "# ✅ VIF 계산을 위한 숫자형 변수 선택 (ID 및 SalePrice 제외)\n",
    "features = train_df.select_dtypes(include=['number']).drop(columns=['Id', 'SalePrice'], errors=\"ignore\")\n",
    "\n",
    "# ✅ VIF 계산\n",
    "vif_data = pd.DataFrame()\n",
    "vif_data[\"Feature\"] = features.columns\n",
    "vif_data[\"VIF\"] = [variance_inflation_factor(features.values, i) for i in range(features.shape[1])]\n",
    "\n",
    "# ✅ VIF가 높은 변수를 삭제하지 않고 Scaling 적용\n",
    "print(\"✅ VIF 높은 변수 목록:\\n\", vif_data.sort_values(by=\"VIF\", ascending=False).head(10))"
   ]
  },
  {
   "cell_type": "code",
   "execution_count": 14,
   "metadata": {},
   "outputs": [
    {
     "name": "stdout",
     "output_type": "stream",
     "text": [
      "✅ 로그 변환 적용 완료! (YearBuilt, BuildingAge)\n"
     ]
    }
   ],
   "source": [
    "import numpy as np\n",
    "from sklearn.preprocessing import MinMaxScaler\n",
    "\n",
    "# ✅ 로그 변환 적용 (왜도가 높은 변수들)\n",
    "log_transform_cols = [\"YearBuilt\", \"BuildingAge\"]\n",
    "for col in log_transform_cols:\n",
    "    train_df[col] = np.log1p(train_df[col])\n",
    "    test_df[col] = np.log1p(test_df[col])\n",
    "\n",
    "print(\"✅ 로그 변환 적용 완료! (YearBuilt, BuildingAge)\")"
   ]
  },
  {
   "cell_type": "code",
   "execution_count": 15,
   "metadata": {},
   "outputs": [
    {
     "name": "stdout",
     "output_type": "stream",
     "text": [
      "✅ 로그 변환 후 최종 VIF 결과:\n",
      "          Feature           VIF\n",
      "29        YrSold  2.303645e+06\n",
      "5      YearBuilt  2.244375e+06\n",
      "6   YearRemodAdd  2.450900e+04\n",
      "30   BuildingAge  2.241531e+03\n",
      "9      GrLivArea  1.229604e+02\n",
      "31       TotalSF  9.031397e+01\n",
      "16  TotRmsAbvGrd  8.265718e+01\n",
      "3    OverallQual  7.201114e+01\n",
      "4    OverallCond  4.588720e+01\n",
      "19    GarageCars  3.992139e+01\n"
     ]
    }
   ],
   "source": [
    "from statsmodels.stats.outliers_influence import variance_inflation_factor\n",
    "import pandas as pd\n",
    "\n",
    "# ✅ VIF 다시 계산\n",
    "features = train_df.select_dtypes(include=['number']).drop(columns=['Id', 'SalePrice'], errors=\"ignore\")\n",
    "vif_data = pd.DataFrame()\n",
    "vif_data[\"Feature\"] = features.columns\n",
    "vif_data[\"VIF\"] = [variance_inflation_factor(features.values, i) for i in range(features.shape[1])]\n",
    "\n",
    "# ✅ VIF 값이 정상적으로 조정되었는지 확인\n",
    "print(\"✅ 로그 변환 후 최종 VIF 결과:\\n\", vif_data.sort_values(by=\"VIF\", ascending=False).head(10))"
   ]
  },
  {
   "cell_type": "code",
   "execution_count": 16,
   "metadata": {},
   "outputs": [
    {
     "name": "stderr",
     "output_type": "stream",
     "text": [
      "/opt/anaconda3/envs/house/lib/python3.12/site-packages/IPython/core/pylabtools.py:170: UserWarning: Glyph 9989 (\\N{WHITE HEAVY CHECK MARK}) missing from font(s) DejaVu Sans.\n",
      "  fig.canvas.print_figure(bytes_io, **kw)\n",
      "/opt/anaconda3/envs/house/lib/python3.12/site-packages/IPython/core/pylabtools.py:170: UserWarning: Glyph 45458 (\\N{HANGUL SYLLABLE NOP}) missing from font(s) DejaVu Sans.\n",
      "  fig.canvas.print_figure(bytes_io, **kw)\n",
      "/opt/anaconda3/envs/house/lib/python3.12/site-packages/IPython/core/pylabtools.py:170: UserWarning: Glyph 51008 (\\N{HANGUL SYLLABLE EUN}) missing from font(s) DejaVu Sans.\n",
      "  fig.canvas.print_figure(bytes_io, **kw)\n",
      "/opt/anaconda3/envs/house/lib/python3.12/site-packages/IPython/core/pylabtools.py:170: UserWarning: Glyph 48320 (\\N{HANGUL SYLLABLE BYEON}) missing from font(s) DejaVu Sans.\n",
      "  fig.canvas.print_figure(bytes_io, **kw)\n",
      "/opt/anaconda3/envs/house/lib/python3.12/site-packages/IPython/core/pylabtools.py:170: UserWarning: Glyph 49688 (\\N{HANGUL SYLLABLE SU}) missing from font(s) DejaVu Sans.\n",
      "  fig.canvas.print_figure(bytes_io, **kw)\n",
      "/opt/anaconda3/envs/house/lib/python3.12/site-packages/IPython/core/pylabtools.py:170: UserWarning: Glyph 44036 (\\N{HANGUL SYLLABLE GAN}) missing from font(s) DejaVu Sans.\n",
      "  fig.canvas.print_figure(bytes_io, **kw)\n",
      "/opt/anaconda3/envs/house/lib/python3.12/site-packages/IPython/core/pylabtools.py:170: UserWarning: Glyph 49345 (\\N{HANGUL SYLLABLE SANG}) missing from font(s) DejaVu Sans.\n",
      "  fig.canvas.print_figure(bytes_io, **kw)\n",
      "/opt/anaconda3/envs/house/lib/python3.12/site-packages/IPython/core/pylabtools.py:170: UserWarning: Glyph 44288 (\\N{HANGUL SYLLABLE GWAN}) missing from font(s) DejaVu Sans.\n",
      "  fig.canvas.print_figure(bytes_io, **kw)\n",
      "/opt/anaconda3/envs/house/lib/python3.12/site-packages/IPython/core/pylabtools.py:170: UserWarning: Glyph 44228 (\\N{HANGUL SYLLABLE GYE}) missing from font(s) DejaVu Sans.\n",
      "  fig.canvas.print_figure(bytes_io, **kw)\n",
      "/opt/anaconda3/envs/house/lib/python3.12/site-packages/IPython/core/pylabtools.py:170: UserWarning: Glyph 54869 (\\N{HANGUL SYLLABLE HWAG}) missing from font(s) DejaVu Sans.\n",
      "  fig.canvas.print_figure(bytes_io, **kw)\n",
      "/opt/anaconda3/envs/house/lib/python3.12/site-packages/IPython/core/pylabtools.py:170: UserWarning: Glyph 51064 (\\N{HANGUL SYLLABLE IN}) missing from font(s) DejaVu Sans.\n",
      "  fig.canvas.print_figure(bytes_io, **kw)\n"
     ]
    },
    {
     "data": {
      "image/png": "[encoded data removed]",
      "text/plain": [
       "<Figure size 1000x600 with 2 Axes>"
      ]
     },
     "metadata": {},
     "output_type": "display_data"
    }
   ],
   "source": [
    "import seaborn as sns\n",
    "import matplotlib.pyplot as plt\n",
    "\n",
    "# ✅ VIF가 높은 변수들만 추출\n",
    "high_vif_cols = [\"YrSold\", \"YearBuilt\", \"YearRemodAdd\", \"GrLivArea\", \"BuildingAge\", \"TotalSF\"]\n",
    "\n",
    "# ✅ 상관계수 확인\n",
    "plt.figure(figsize=(10, 6))\n",
    "sns.heatmap(train_df[high_vif_cols].corr(), annot=True, fmt=\".2f\", cmap=\"coolwarm\", linewidths=0.5)\n",
    "plt.title(\"✅ VIF 높은 변수 간 상관관계 확인\")\n",
    "plt.show()"
   ]
  },
  {
   "cell_type": "code",
   "execution_count": 18,
   "metadata": {},
   "outputs": [
    {
     "name": "stdout",
     "output_type": "stream",
     "text": [
      "⚠️ PCA 적용 전 NaN 값 존재 → 결측값을 0으로 대체\n",
      "✅ GrLivArea & TotalSF를 PCA_LivingSpace로 변환 (VIF 감소 기대)\n"
     ]
    }
   ],
   "source": [
    "from sklearn.decomposition import PCA\n",
    "\n",
    "pca_feature_cols = [\"GrLivArea\", \"TotalSF\"]\n",
    "\n",
    "# ✅ 결측값 확인\n",
    "if train_df[pca_feature_cols].isnull().sum().sum() > 0 or test_df[pca_feature_cols].isnull().sum().sum() > 0:\n",
    "    print(\"⚠️ PCA 적용 전 NaN 값 존재 → 결측값을 0으로 대체\")\n",
    "    train_df[pca_feature_cols] = train_df[pca_feature_cols].fillna(0)\n",
    "    test_df[pca_feature_cols] = test_df[pca_feature_cols].fillna(0)\n",
    "\n",
    "# ✅ PCA 적용\n",
    "if all(col in train_df.columns for col in pca_feature_cols):\n",
    "    pca = PCA(n_components=1)\n",
    "    train_df[\"PCA_LivingSpace\"] = pca.fit_transform(train_df[pca_feature_cols])\n",
    "    test_df[\"PCA_LivingSpace\"] = pca.transform(test_df[pca_feature_cols])\n",
    "\n",
    "# ✅ 기존 변수 삭제\n",
    "train_df.drop(columns=pca_feature_cols, inplace=True, errors=\"ignore\")\n",
    "test_df.drop(columns=pca_feature_cols, inplace=True, errors=\"ignore\")\n",
    "\n",
    "print(\"✅ GrLivArea & TotalSF를 PCA_LivingSpace로 변환 (VIF 감소 기대)\")"
   ]
  },
  {
   "cell_type": "code",
   "execution_count": 22,
   "metadata": {},
   "outputs": [
    {
     "name": "stdout",
     "output_type": "stream",
     "text": [
      "✅ ['FullBath', 'LotFrontage'] 제거 완료 (VIF 감소 기대)\n",
      "✅ VIF 최종 조정 후 결과:\n",
      "          Feature        VIF\n",
      "2    OverallQual  24.142733\n",
      "8   BedroomAbvGr  11.163512\n",
      "10    GarageArea   9.820537\n",
      "18        MoSold   6.348550\n",
      "0     MSSubClass   2.990636\n",
      "9     Fireplaces   2.733072\n",
      "1        LotArea   2.449382\n",
      "7       HalfBath   1.937427\n",
      "5   BsmtFullBath   1.878320\n",
      "11    WoodDeckSF   1.840331\n"
     ]
    }
   ],
   "source": [
    "from statsmodels.stats.outliers_influence import variance_inflation_factor\n",
    "import pandas as pd\n",
    "\n",
    "# ✅ VIF 값이 높은 추가 변수 제거\n",
    "drop_cols = [\"FullBath\", \"LotFrontage\"]\n",
    "\n",
    "train_df.drop(columns=drop_cols, inplace=True, errors=\"ignore\")\n",
    "test_df.drop(columns=drop_cols, inplace=True, errors=\"ignore\")\n",
    "\n",
    "print(f\"✅ {drop_cols} 제거 완료 (VIF 감소 기대)\")\n",
    "\n",
    "# ✅ VIF 다시 계산\n",
    "features = train_df.select_dtypes(include=['number']).drop(columns=['Id', 'SalePrice'], errors=\"ignore\")\n",
    "vif_data = pd.DataFrame()\n",
    "vif_data[\"Feature\"] = features.columns\n",
    "vif_data[\"VIF\"] = [variance_inflation_factor(features.values, i) for i in range(features.shape[1])]\n",
    "\n",
    "# ✅ VIF 최종 확인\n",
    "print(\"✅ VIF 최종 조정 후 결과:\\n\", vif_data.sort_values(by=\"VIF\", ascending=False).head(10))"
   ]
  },
  {
   "cell_type": "code",
   "execution_count": 24,
   "metadata": {},
   "outputs": [
    {
     "name": "stdout",
     "output_type": "stream",
     "text": [
      "✅ PCA 적용 전 결측치 확인:\n"
     ]
    },
    {
     "ename": "KeyError",
     "evalue": "\"None of [Index(['1stFlrSF', '2ndFlrSF', 'TotalBsmtSF'], dtype='object')] are in the [columns]\"",
     "output_type": "error",
     "traceback": [
      "\u001b[0;31m---------------------------------------------------------------------------\u001b[0m",
      "\u001b[0;31mKeyError\u001b[0m                                  Traceback (most recent call last)",
      "Cell \u001b[0;32mIn[24], line 5\u001b[0m\n\u001b[1;32m      2\u001b[0m pca_feature_cols \u001b[38;5;241m=\u001b[39m [\u001b[38;5;124m\"\u001b[39m\u001b[38;5;124m1stFlrSF\u001b[39m\u001b[38;5;124m\"\u001b[39m, \u001b[38;5;124m\"\u001b[39m\u001b[38;5;124m2ndFlrSF\u001b[39m\u001b[38;5;124m\"\u001b[39m, \u001b[38;5;124m\"\u001b[39m\u001b[38;5;124mTotalBsmtSF\u001b[39m\u001b[38;5;124m\"\u001b[39m]\n\u001b[1;32m      4\u001b[0m \u001b[38;5;28mprint\u001b[39m(\u001b[38;5;124m\"\u001b[39m\u001b[38;5;124m✅ PCA 적용 전 결측치 확인:\u001b[39m\u001b[38;5;124m\"\u001b[39m)\n\u001b[0;32m----> 5\u001b[0m \u001b[38;5;28mprint\u001b[39m(\u001b[43mtrain_df\u001b[49m\u001b[43m[\u001b[49m\u001b[43mpca_feature_cols\u001b[49m\u001b[43m]\u001b[49m\u001b[38;5;241m.\u001b[39misnull()\u001b[38;5;241m.\u001b[39msum())\n\u001b[1;32m      6\u001b[0m \u001b[38;5;28mprint\u001b[39m(test_df[pca_feature_cols]\u001b[38;5;241m.\u001b[39misnull()\u001b[38;5;241m.\u001b[39msum())\n",
      "File \u001b[0;32m/opt/anaconda3/envs/house/lib/python3.12/site-packages/pandas/core/frame.py:4108\u001b[0m, in \u001b[0;36mDataFrame.__getitem__\u001b[0;34m(self, key)\u001b[0m\n\u001b[1;32m   4106\u001b[0m     \u001b[38;5;28;01mif\u001b[39;00m is_iterator(key):\n\u001b[1;32m   4107\u001b[0m         key \u001b[38;5;241m=\u001b[39m \u001b[38;5;28mlist\u001b[39m(key)\n\u001b[0;32m-> 4108\u001b[0m     indexer \u001b[38;5;241m=\u001b[39m \u001b[38;5;28;43mself\u001b[39;49m\u001b[38;5;241;43m.\u001b[39;49m\u001b[43mcolumns\u001b[49m\u001b[38;5;241;43m.\u001b[39;49m\u001b[43m_get_indexer_strict\u001b[49m\u001b[43m(\u001b[49m\u001b[43mkey\u001b[49m\u001b[43m,\u001b[49m\u001b[43m \u001b[49m\u001b[38;5;124;43m\"\u001b[39;49m\u001b[38;5;124;43mcolumns\u001b[39;49m\u001b[38;5;124;43m\"\u001b[39;49m\u001b[43m)\u001b[49m[\u001b[38;5;241m1\u001b[39m]\n\u001b[1;32m   4110\u001b[0m \u001b[38;5;66;03m# take() does not accept boolean indexers\u001b[39;00m\n\u001b[1;32m   4111\u001b[0m \u001b[38;5;28;01mif\u001b[39;00m \u001b[38;5;28mgetattr\u001b[39m(indexer, \u001b[38;5;124m\"\u001b[39m\u001b[38;5;124mdtype\u001b[39m\u001b[38;5;124m\"\u001b[39m, \u001b[38;5;28;01mNone\u001b[39;00m) \u001b[38;5;241m==\u001b[39m \u001b[38;5;28mbool\u001b[39m:\n",
      "File \u001b[0;32m/opt/anaconda3/envs/house/lib/python3.12/site-packages/pandas/core/indexes/base.py:6200\u001b[0m, in \u001b[0;36mIndex._get_indexer_strict\u001b[0;34m(self, key, axis_name)\u001b[0m\n\u001b[1;32m   6197\u001b[0m \u001b[38;5;28;01melse\u001b[39;00m:\n\u001b[1;32m   6198\u001b[0m     keyarr, indexer, new_indexer \u001b[38;5;241m=\u001b[39m \u001b[38;5;28mself\u001b[39m\u001b[38;5;241m.\u001b[39m_reindex_non_unique(keyarr)\n\u001b[0;32m-> 6200\u001b[0m \u001b[38;5;28;43mself\u001b[39;49m\u001b[38;5;241;43m.\u001b[39;49m\u001b[43m_raise_if_missing\u001b[49m\u001b[43m(\u001b[49m\u001b[43mkeyarr\u001b[49m\u001b[43m,\u001b[49m\u001b[43m \u001b[49m\u001b[43mindexer\u001b[49m\u001b[43m,\u001b[49m\u001b[43m \u001b[49m\u001b[43maxis_name\u001b[49m\u001b[43m)\u001b[49m\n\u001b[1;32m   6202\u001b[0m keyarr \u001b[38;5;241m=\u001b[39m \u001b[38;5;28mself\u001b[39m\u001b[38;5;241m.\u001b[39mtake(indexer)\n\u001b[1;32m   6203\u001b[0m \u001b[38;5;28;01mif\u001b[39;00m \u001b[38;5;28misinstance\u001b[39m(key, Index):\n\u001b[1;32m   6204\u001b[0m     \u001b[38;5;66;03m# GH 42790 - Preserve name from an Index\u001b[39;00m\n",
      "File \u001b[0;32m/opt/anaconda3/envs/house/lib/python3.12/site-packages/pandas/core/indexes/base.py:6249\u001b[0m, in \u001b[0;36mIndex._raise_if_missing\u001b[0;34m(self, key, indexer, axis_name)\u001b[0m\n\u001b[1;32m   6247\u001b[0m \u001b[38;5;28;01mif\u001b[39;00m nmissing:\n\u001b[1;32m   6248\u001b[0m     \u001b[38;5;28;01mif\u001b[39;00m nmissing \u001b[38;5;241m==\u001b[39m \u001b[38;5;28mlen\u001b[39m(indexer):\n\u001b[0;32m-> 6249\u001b[0m         \u001b[38;5;28;01mraise\u001b[39;00m \u001b[38;5;167;01mKeyError\u001b[39;00m(\u001b[38;5;124mf\u001b[39m\u001b[38;5;124m\"\u001b[39m\u001b[38;5;124mNone of [\u001b[39m\u001b[38;5;132;01m{\u001b[39;00mkey\u001b[38;5;132;01m}\u001b[39;00m\u001b[38;5;124m] are in the [\u001b[39m\u001b[38;5;132;01m{\u001b[39;00maxis_name\u001b[38;5;132;01m}\u001b[39;00m\u001b[38;5;124m]\u001b[39m\u001b[38;5;124m\"\u001b[39m)\n\u001b[1;32m   6251\u001b[0m     not_found \u001b[38;5;241m=\u001b[39m \u001b[38;5;28mlist\u001b[39m(ensure_index(key)[missing_mask\u001b[38;5;241m.\u001b[39mnonzero()[\u001b[38;5;241m0\u001b[39m]]\u001b[38;5;241m.\u001b[39munique())\n\u001b[1;32m   6252\u001b[0m     \u001b[38;5;28;01mraise\u001b[39;00m \u001b[38;5;167;01mKeyError\u001b[39;00m(\u001b[38;5;124mf\u001b[39m\u001b[38;5;124m\"\u001b[39m\u001b[38;5;132;01m{\u001b[39;00mnot_found\u001b[38;5;132;01m}\u001b[39;00m\u001b[38;5;124m not in index\u001b[39m\u001b[38;5;124m\"\u001b[39m)\n",
      "\u001b[0;31mKeyError\u001b[0m: \"None of [Index(['1stFlrSF', '2ndFlrSF', 'TotalBsmtSF'], dtype='object')] are in the [columns]\""
     ]
    }
   ],
   "source": [
    "# ✅ PCA 적용 대상 컬럼들의 결측치 개수 확인\n",
    "pca_feature_cols = [\"1stFlrSF\", \"2ndFlrSF\", \"TotalBsmtSF\"]\n",
    "\n",
    "print(\"✅ PCA 적용 전 결측치 확인:\")\n",
    "print(train_df[pca_feature_cols].isnull().sum())\n",
    "print(test_df[pca_feature_cols].isnull().sum())"
   ]
  },
  {
   "cell_type": "code",
   "execution_count": 11,
   "metadata": {},
   "outputs": [
    {
     "name": "stdout",
     "output_type": "stream",
     "text": [
      "✅ PCA 적용 전 모든 결측치 처리 완료!\n"
     ]
    },
    {
     "name": "stderr",
     "output_type": "stream",
     "text": [
      "/tmp/ipykernel_1331855/2946199040.py:3: FutureWarning: A value is trying to be set on a copy of a DataFrame or Series through chained assignment using an inplace method.\n",
      "The behavior will change in pandas 3.0. This inplace method will never work because the intermediate object on which we are setting values always behaves as a copy.\n",
      "\n",
      "For example, when doing 'df[col].method(value, inplace=True)', try using 'df.method({col: value}, inplace=True)' or df[col] = df[col].method(value) instead, to perform the operation inplace on the original object.\n",
      "\n",
      "\n",
      "  train_df[col].fillna(0, inplace=True)\n",
      "/tmp/ipykernel_1331855/2946199040.py:4: FutureWarning: A value is trying to be set on a copy of a DataFrame or Series through chained assignment using an inplace method.\n",
      "The behavior will change in pandas 3.0. This inplace method will never work because the intermediate object on which we are setting values always behaves as a copy.\n",
      "\n",
      "For example, when doing 'df[col].method(value, inplace=True)', try using 'df.method({col: value}, inplace=True)' or df[col] = df[col].method(value) instead, to perform the operation inplace on the original object.\n",
      "\n",
      "\n",
      "  test_df[col].fillna(0, inplace=True)\n"
     ]
    }
   ],
   "source": [
    "# ✅ PCA 적용 전, 결측치를 0으로 채우기 (건물이 없거나 데이터 누락 시 0으로 간주)\n",
    "for col in pca_feature_cols:\n",
    "    train_df[col].fillna(0, inplace=True)\n",
    "    test_df[col].fillna(0, inplace=True)\n",
    "\n",
    "print(\"✅ PCA 적용 전 모든 결측치 처리 완료!\")"
   ]
  },
  {
   "cell_type": "code",
   "execution_count": 12,
   "metadata": {},
   "outputs": [
    {
     "name": "stdout",
     "output_type": "stream",
     "text": [
      "✅ PCA 적용 완료: PCA_TotalSF 변수 생성!\n"
     ]
    }
   ],
   "source": [
    "from sklearn.decomposition import PCA\n",
    "\n",
    "# ✅ PCA 적용 (TotalSF 관련 변수 합성)\n",
    "if all(col in train_df.columns for col in pca_feature_cols):\n",
    "    pca = PCA(n_components=1)\n",
    "    train_df[\"PCA_TotalSF\"] = pca.fit_transform(train_df[pca_feature_cols])\n",
    "    test_df[\"PCA_TotalSF\"] = pca.transform(test_df[pca_feature_cols])\n",
    "\n",
    "print(\"✅ PCA 적용 완료: PCA_TotalSF 변수 생성!\")"
   ]
  },
  {
   "cell_type": "code",
   "execution_count": 15,
   "metadata": {},
   "outputs": [
    {
     "name": "stdout",
     "output_type": "stream",
     "text": [
      "✅ 변환할 범주형 컬럼 목록:\n",
      " Index(['MSZoning', 'Street', 'Alley', 'LotShape', 'LandContour', 'Utilities',\n",
      "       'LotConfig', 'LandSlope', 'Neighborhood', 'Condition1', 'Condition2',\n",
      "       'BldgType', 'HouseStyle', 'RoofStyle', 'RoofMatl', 'Exterior1st',\n",
      "       'Exterior2nd', 'MasVnrType', 'ExterQual', 'ExterCond', 'Foundation',\n",
      "       'BsmtQual', 'BsmtCond', 'BsmtExposure', 'BsmtFinType1', 'BsmtFinType2',\n",
      "       'Heating', 'HeatingQC', 'CentralAir', 'Electrical', 'KitchenQual',\n",
      "       'Functional', 'FireplaceQu', 'GarageType', 'GarageFinish', 'GarageQual',\n",
      "       'GarageCond', 'PavedDrive', 'PoolQC', 'Fence', 'MiscFeature',\n",
      "       'SaleType', 'SaleCondition'],\n",
      "      dtype='object')\n",
      "✅ One-Hot Encoding 완료! (이제 모든 컬럼이 숫자형)\n"
     ]
    }
   ],
   "source": [
    "from sklearn.preprocessing import OneHotEncoder\n",
    "\n",
    "# ✅ 범주형 컬럼 찾기\n",
    "categorical_cols = train_df.select_dtypes(include=[\"object\"]).columns\n",
    "print(\"✅ 변환할 범주형 컬럼 목록:\\n\", categorical_cols)\n",
    "\n",
    "# ✅ One-Hot Encoding 적용 (XGBoost에서 사용할 수 있도록 변환)\n",
    "train_df = pd.get_dummies(train_df, columns=categorical_cols, drop_first=True)\n",
    "test_df = pd.get_dummies(test_df, columns=categorical_cols, drop_first=True)\n",
    "\n",
    "print(\"✅ One-Hot Encoding 완료! (이제 모든 컬럼이 숫자형)\")"
   ]
  },
  {
   "cell_type": "code",
   "execution_count": 16,
   "metadata": {},
   "outputs": [
    {
     "name": "stdout",
     "output_type": "stream",
     "text": [
      "✅ train_df & test_df 컬럼 정렬 및 NaN 처리 완료!\n"
     ]
    }
   ],
   "source": [
    "# ✅ train_df와 test_df의 컬럼 개수가 다를 수 있으므로 정렬\n",
    "train_df, test_df = train_df.align(test_df, join=\"left\", axis=1)\n",
    "\n",
    "# ✅ NaN 값이 발생한 경우 0으로 대체 (원-핫 인코딩 과정에서 발생 가능)\n",
    "train_df.fillna(0, inplace=True)\n",
    "test_df.fillna(0, inplace=True)\n",
    "\n",
    "print(\"✅ train_df & test_df 컬럼 정렬 및 NaN 처리 완료!\")"
   ]
  },
  {
   "cell_type": "code",
   "execution_count": 17,
   "metadata": {},
   "outputs": [
    {
     "name": "stdout",
     "output_type": "stream",
     "text": [
      "✅ 데이터 분할 완료! (X_train, X_valid 크기 확인)\n",
      "X_train 크기: (1168, 262)\n",
      "X_valid 크기: (292, 262)\n"
     ]
    }
   ],
   "source": [
    "from sklearn.model_selection import train_test_split\n",
    "\n",
    "# ✅ 모델 학습을 위한 X, y 데이터 분리\n",
    "X = train_df.drop(columns=['Id', 'SalePrice'])  # 입력 변수\n",
    "y = train_df[\"SalePrice\"]  # 타겟 변수\n",
    "\n",
    "# ✅ 훈련 데이터와 검증 데이터로 분할 (80% 훈련, 20% 검증)\n",
    "X_train, X_valid, y_train, y_valid = train_test_split(X, y, test_size=0.2, random_state=42)\n",
    "\n",
    "print(\"✅ 데이터 분할 완료! (X_train, X_valid 크기 확인)\")\n",
    "print(\"X_train 크기:\", X_train.shape)\n",
    "print(\"X_valid 크기:\", X_valid.shape)"
   ]
  },
  {
   "cell_type": "code",
   "execution_count": 18,
   "metadata": {},
   "outputs": [
    {
     "name": "stdout",
     "output_type": "stream",
     "text": [
      "✅ XGBoost 모델 RMSE: 25862.9038\n"
     ]
    }
   ],
   "source": [
    "import xgboost as xgb\n",
    "from sklearn.metrics import mean_squared_error\n",
    "\n",
    "# ✅ XGBoost 모델 정의\n",
    "xgb_model = xgb.XGBRegressor(n_estimators=300, learning_rate=0.05, max_depth=6, random_state=42)\n",
    "\n",
    "# ✅ 모델 학습\n",
    "xgb_model.fit(X_train, y_train)\n",
    "\n",
    "# ✅ 예측 및 평가\n",
    "y_pred_xgb = xgb_model.predict(X_valid)\n",
    "rmse_xgb = np.sqrt(mean_squared_error(y_valid, y_pred_xgb))\n",
    "\n",
    "print(f\"✅ XGBoost 모델 RMSE: {rmse_xgb:.4f}\")"
   ]
  }
 ],
 "metadata": {
  "kernelspec": {
   "display_name": "house",
   "language": "python",
   "name": "python3"
  },
  "language_info": {
   "codemirror_mode": {
    "name": "ipython",
    "version": 3
   },
   "file_extension": ".py",
   "mimetype": "text/x-python",
   "name": "python",
   "nbconvert_exporter": "python",
   "pygments_lexer": "ipython3",
   "version": "3.12.9"
  }
 },
 "nbformat": 4,
 "nbformat_minor": 2
}
